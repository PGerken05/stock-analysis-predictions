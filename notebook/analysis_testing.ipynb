{
 "cells": [
  {
   "cell_type": "code",
   "execution_count": 3,
   "id": "08eb815f-b988-49fc-9e0a-47fa403b2ed7",
   "metadata": {},
   "outputs": [],
   "source": [
    "class Stock:\n",
    "    def _init_(self, symbol, price):\n",
    "        \"\"\"\n",
    "        This will initialize a Stock object with its ticker symbol and price\n",
    "        \"\"\"\n",
    "        self.symbol = symbol\n",
    "        self.price = price\n",
    "\n",
    "    def update_price(self, new_price):\n",
    "        \"\"\"\n",
    "        Updates the price of the stock\n",
    "        \"\"\"\n",
    "        self.price = new_price\n",
    "    def display(self):\n",
    "        print(f\"{self.symbol}: ${self.price}\")"
   ]
  },
  {
   "cell_type": "code",
   "execution_count": null,
   "id": "9266a87e-1d14-427c-bcd2-42012d6c4ae6",
   "metadata": {},
   "outputs": [],
   "source": []
  }
 ],
 "metadata": {
  "kernelspec": {
   "display_name": "Python 3 (ipykernel)",
   "language": "python",
   "name": "python3"
  },
  "language_info": {
   "codemirror_mode": {
    "name": "ipython",
    "version": 3
   },
   "file_extension": ".py",
   "mimetype": "text/x-python",
   "name": "python",
   "nbconvert_exporter": "python",
   "pygments_lexer": "ipython3",
   "version": "3.13.5"
  }
 },
 "nbformat": 4,
 "nbformat_minor": 5
}
