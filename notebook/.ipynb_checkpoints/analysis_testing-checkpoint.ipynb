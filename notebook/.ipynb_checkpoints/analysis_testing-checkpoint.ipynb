{
 "cells": [
  {
   "cell_type": "code",
   "execution_count": null,
   "id": "08eb815f-b988-49fc-9e0a-47fa403b2ed7",
   "metadata": {},
   "outputs": [],
   "source": [
    "class Stock:\n",
    "    def _init_(symbol, price)\n",
    "        \"\"\"\n",
    "        This will initialize a Stock object with its ticker symbol and price\n",
    "        \"\"\"\n",
    "        "
   ]
  }
 ],
 "metadata": {
  "kernelspec": {
   "display_name": "Python 3 (ipykernel)",
   "language": "python",
   "name": "python3"
  },
  "language_info": {
   "codemirror_mode": {
    "name": "ipython",
    "version": 3
   },
   "file_extension": ".py",
   "mimetype": "text/x-python",
   "name": "python",
   "nbconvert_exporter": "python",
   "pygments_lexer": "ipython3",
   "version": "3.13.5"
  }
 },
 "nbformat": 4,
 "nbformat_minor": 5
}
